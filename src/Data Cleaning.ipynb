{
 "cells": [
  {
   "cell_type": "code",
   "execution_count": 470,
   "metadata": {
    "execution": {
     "iopub.execute_input": "2024-10-20T01:23:42.734533Z",
     "iopub.status.busy": "2024-10-20T01:23:42.734180Z",
     "iopub.status.idle": "2024-10-20T01:23:43.372196Z",
     "shell.execute_reply": "2024-10-20T01:23:43.371307Z",
     "shell.execute_reply.started": "2024-10-20T01:23:42.734495Z"
    }
   },
   "outputs": [],
   "source": [
    "import pandas as pd\n",
    "\n",
    "# Load CSVs downloaded from kaggle\n",
    "team_details = pd.read_csv('/kaggle/input/formula-1-official-data-19502022/team_details.csv')\n",
    "pitstops = pd.read_csv('/kaggle/input/formula-1-official-data-19502022/pitstops.csv')\n",
    "race_details = pd.read_csv('/kaggle/input/formula-1-official-data-19502022/race_details.csv')\n",
    "driver_standings = pd.read_csv('/kaggle/input/formula-1-official-data-19502022/driver_standings.csv')\n",
    "driver_details = pd.read_csv('/kaggle/input/formula-1-official-data-19502022/driver_details.csv')\n",
    "starting_grids = pd.read_csv('/kaggle/input/formula-1-official-data-19502022/starting_grids.csv')\n",
    "race_summaries = pd.read_csv('/kaggle/input/formula-1-official-data-19502022/race_summaries.csv')\n",
    "\n",
    "\n",
    "# Merge driver details with race details\n",
    "df = pd.merge(race_details, driver_details, how='inner', on=['Driver', 'Grand Prix', 'Year', 'Car'], suffixes=('_race', '_details'))\n",
    "\n",
    "# Merge with driver standings\n",
    "df = pd.merge(df, driver_standings, how='inner', on=['Driver', 'Year', 'DriverCode', 'Car'], suffixes=('', '_standings'))\n",
    "\n",
    "# Merge with starting grids\n",
    "df = pd.merge(df, starting_grids, how='inner', on=['Driver', 'Grand Prix', 'Year', 'DriverCode', 'Car'], suffixes=('', '_grid'))\n",
    "\n",
    "# Merge with race summaries\n",
    "df = pd.merge(df, race_summaries, how='inner', on=['Grand Prix', 'Year', 'Car', 'Date'], suffixes=('', '_summary'))\n",
    "\n",
    "# Merge with team details\n",
    "df = pd.merge(df, team_details, how='inner', on=['Grand Prix', 'Year', 'Date'], suffixes=('', '_team'))\n",
    "\n",
    "# Merge with pitstops\n",
    "df = pd.merge(df, pitstops, how='inner', on=['Driver', 'Grand Prix', 'Year', 'DriverCode', 'Car'], suffixes=('', '_pitstop'))\n",
    "\n",
    "# saving merged race data to further clean it\n",
    "df.to_csv('merged_race_data.csv', index=False)"
   ]
  },
  {
   "cell_type": "code",
   "execution_count": 471,
   "metadata": {
    "execution": {
     "iopub.execute_input": "2024-10-20T01:23:43.373669Z",
     "iopub.status.busy": "2024-10-20T01:23:43.373348Z",
     "iopub.status.idle": "2024-10-20T01:23:43.380026Z",
     "shell.execute_reply": "2024-10-20T01:23:43.379015Z",
     "shell.execute_reply.started": "2024-10-20T01:23:43.373634Z"
    }
   },
   "outputs": [
    {
     "data": {
      "text/plain": [
       "(20359, 34)"
      ]
     },
     "execution_count": 471,
     "metadata": {},
     "output_type": "execute_result"
    }
   ],
   "source": [
    "df.shape"
   ]
  },
  {
   "cell_type": "markdown",
   "metadata": {},
   "source": [
    "# DATA CLEANING"
   ]
  },
  {
   "cell_type": "markdown",
   "metadata": {},
   "source": [
    "Selecting races only after 2010"
   ]
  },
  {
   "cell_type": "code",
   "execution_count": 473,
   "metadata": {
    "execution": {
     "iopub.execute_input": "2024-10-20T01:23:43.391628Z",
     "iopub.status.busy": "2024-10-20T01:23:43.391319Z",
     "iopub.status.idle": "2024-10-20T01:23:43.407927Z",
     "shell.execute_reply": "2024-10-20T01:23:43.406958Z",
     "shell.execute_reply.started": "2024-10-20T01:23:43.391594Z"
    }
   },
   "outputs": [],
   "source": [
    "# selecting only races after 2010\n",
    "df = df[df[\"Year\"]>2010]"
   ]
  },
  {
   "cell_type": "markdown",
   "metadata": {},
   "source": [
    "Dropping duplicates"
   ]
  },
  {
   "cell_type": "code",
   "execution_count": 474,
   "metadata": {
    "execution": {
     "iopub.execute_input": "2024-10-20T01:23:43.409681Z",
     "iopub.status.busy": "2024-10-20T01:23:43.409223Z",
     "iopub.status.idle": "2024-10-20T01:23:43.458369Z",
     "shell.execute_reply": "2024-10-20T01:23:43.457438Z",
     "shell.execute_reply.started": "2024-10-20T01:23:43.409644Z"
    }
   },
   "outputs": [
    {
     "name": "stdout",
     "output_type": "stream",
     "text": [
      "(9814, 34)\n"
     ]
    },
    {
     "data": {
      "text/plain": [
       "Pos                 0\n",
       "No                  0\n",
       "Driver              0\n",
       "Car                 0\n",
       "Laps                0\n",
       "Time/Retired        0\n",
       "PTS_race            0\n",
       "Year                0\n",
       "Grand Prix          0\n",
       "Detail              0\n",
       "DriverCode          0\n",
       "Date                0\n",
       "PTS_details         0\n",
       "Race Position       0\n",
       "Pos_standings       0\n",
       "Nationality         0\n",
       "PTS                 0\n",
       "Detail_grid         0\n",
       "No_grid             0\n",
       "Pos_grid            0\n",
       "Time              464\n",
       "Winner              0\n",
       "Laps_summary        0\n",
       "Time_summary        0\n",
       "WinnerCode          0\n",
       "PTS_team            0\n",
       "Team                0\n",
       "Stops               0\n",
       "No_pitstop          0\n",
       "Lap                 0\n",
       "Time of day         0\n",
       "Time_pitstop        0\n",
       "Total               0\n",
       "Detail_pitstop      0\n",
       "dtype: int64"
      ]
     },
     "execution_count": 474,
     "metadata": {},
     "output_type": "execute_result"
    }
   ],
   "source": [
    "# removing duplicate values\n",
    "df.drop_duplicates(inplace=True)\n",
    "print(df.shape)\n",
    "df.isna().sum()"
   ]
  },
  {
   "cell_type": "markdown",
   "metadata": {},
   "source": [
    "## Cleaning each feature individually \n",
    "\n",
    "- imputing null values, changing their types, etc."
   ]
  },
  {
   "cell_type": "markdown",
   "metadata": {},
   "source": [
    "`Pos` has \"1\" to \"19\" values except the \"NC\" value which we replace with \"0\" since it is \"Not Classified\""
   ]
  },
  {
   "cell_type": "code",
   "execution_count": 475,
   "metadata": {
    "execution": {
     "iopub.execute_input": "2024-10-20T01:23:43.460026Z",
     "iopub.status.busy": "2024-10-20T01:23:43.459711Z",
     "iopub.status.idle": "2024-10-20T01:23:43.470057Z",
     "shell.execute_reply": "2024-10-20T01:23:43.469034Z",
     "shell.execute_reply.started": "2024-10-20T01:23:43.459991Z"
    }
   },
   "outputs": [],
   "source": [
    "df.loc[df['Pos'] == 'NC', 'Pos'] = '0'\n",
    "df['Pos'] = df['Pos'].astype(int)"
   ]
  },
  {
   "cell_type": "code",
   "execution_count": 476,
   "metadata": {
    "execution": {
     "iopub.execute_input": "2024-10-20T01:23:43.471937Z",
     "iopub.status.busy": "2024-10-20T01:23:43.471531Z",
     "iopub.status.idle": "2024-10-20T01:23:43.481094Z",
     "shell.execute_reply": "2024-10-20T01:23:43.480196Z",
     "shell.execute_reply.started": "2024-10-20T01:23:43.471890Z"
    }
   },
   "outputs": [
    {
     "data": {
      "text/plain": [
       "array(['Race-Result'], dtype=object)"
      ]
     },
     "execution_count": 476,
     "metadata": {},
     "output_type": "execute_result"
    }
   ],
   "source": [
    "df['Detail'].unique()"
   ]
  },
  {
   "cell_type": "markdown",
   "metadata": {},
   "source": [
    "Since `Detail` has only one value it makes sense to just drop it altogether"
   ]
  },
  {
   "cell_type": "code",
   "execution_count": 477,
   "metadata": {
    "execution": {
     "iopub.execute_input": "2024-10-20T01:23:43.483101Z",
     "iopub.status.busy": "2024-10-20T01:23:43.482440Z",
     "iopub.status.idle": "2024-10-20T01:23:43.494917Z",
     "shell.execute_reply": "2024-10-20T01:23:43.494032Z",
     "shell.execute_reply.started": "2024-10-20T01:23:43.483052Z"
    }
   },
   "outputs": [],
   "source": [
    "df.drop(['Detail'], axis=1, inplace=True)"
   ]
  },
  {
   "cell_type": "markdown",
   "metadata": {},
   "source": [
    "### Changing date type columns from str to datetime"
   ]
  },
  {
   "cell_type": "code",
   "execution_count": 478,
   "metadata": {
    "execution": {
     "iopub.execute_input": "2024-10-20T01:23:43.499120Z",
     "iopub.status.busy": "2024-10-20T01:23:43.498790Z",
     "iopub.status.idle": "2024-10-20T01:23:43.508045Z",
     "shell.execute_reply": "2024-10-20T01:23:43.507193Z",
     "shell.execute_reply.started": "2024-10-20T01:23:43.499085Z"
    }
   },
   "outputs": [],
   "source": [
    "df['Date'] = pd.to_datetime(df['Date'])"
   ]
  },
  {
   "cell_type": "code",
   "execution_count": null,
   "metadata": {},
   "outputs": [],
   "source": [
    "df[\"Time_summary\"] = pd.to_timedelta(df[\"Time_summary\"])\n",
    "df[\"Time of day\"] = pd.to_timedelta(df[\"Time of day\"])"
   ]
  },
  {
   "cell_type": "markdown",
   "metadata": {},
   "source": [
    "Changing the DNF race position to be max+1 (which is 20)"
   ]
  },
  {
   "cell_type": "code",
   "execution_count": 479,
   "metadata": {
    "execution": {
     "iopub.execute_input": "2024-10-20T01:23:43.509557Z",
     "iopub.status.busy": "2024-10-20T01:23:43.509194Z",
     "iopub.status.idle": "2024-10-20T01:23:43.524941Z",
     "shell.execute_reply": "2024-10-20T01:23:43.523975Z",
     "shell.execute_reply.started": "2024-10-20T01:23:43.509521Z"
    }
   },
   "outputs": [
    {
     "data": {
      "text/plain": [
       "array([ 1,  5,  4,  2,  3, 21, 15, 16, 12,  6, 11,  9, 10,  7, 14,  8, 13])"
      ]
     },
     "execution_count": 479,
     "metadata": {},
     "output_type": "execute_result"
    }
   ],
   "source": [
    "df.loc[df['Race Position'] == 'DNF', 'Race Position'] = '21'\n",
    "df['Race Position'] = df['Race Position'].astype(int)\n",
    "df['Race Position'].unique()"
   ]
  },
  {
   "cell_type": "markdown",
   "metadata": {},
   "source": [
    "Pos_standings is a str of numbers that needs to be changed to int"
   ]
  },
  {
   "cell_type": "code",
   "execution_count": 480,
   "metadata": {
    "execution": {
     "iopub.execute_input": "2024-10-20T01:23:43.526502Z",
     "iopub.status.busy": "2024-10-20T01:23:43.526142Z",
     "iopub.status.idle": "2024-10-20T01:23:43.536337Z",
     "shell.execute_reply": "2024-10-20T01:23:43.535358Z",
     "shell.execute_reply.started": "2024-10-20T01:23:43.526453Z"
    }
   },
   "outputs": [],
   "source": [
    "# changin type to int from str\n",
    "df['Pos_standings'] = df['Pos_standings'].astype(int)"
   ]
  },
  {
   "cell_type": "code",
   "execution_count": 481,
   "metadata": {
    "execution": {
     "iopub.execute_input": "2024-10-20T01:23:43.538060Z",
     "iopub.status.busy": "2024-10-20T01:23:43.537709Z",
     "iopub.status.idle": "2024-10-20T01:23:43.553351Z",
     "shell.execute_reply": "2024-10-20T01:23:43.552334Z",
     "shell.execute_reply.started": "2024-10-20T01:23:43.538005Z"
    }
   },
   "outputs": [
    {
     "name": "stdout",
     "output_type": "stream",
     "text": [
      "['Starting-Grid']\n"
     ]
    }
   ],
   "source": [
    "print(df[\"Detail_grid\"].unique())\n",
    "# Dropping Detail_grid since it has only one value\n",
    "df.drop(['Detail_grid'], axis=1, inplace=True)"
   ]
  },
  {
   "cell_type": "markdown",
   "metadata": {},
   "source": [
    "Plotting other unique values to clean"
   ]
  },
  {
   "cell_type": "code",
   "execution_count": 482,
   "metadata": {
    "execution": {
     "iopub.execute_input": "2024-10-20T01:23:43.554904Z",
     "iopub.status.busy": "2024-10-20T01:23:43.554554Z",
     "iopub.status.idle": "2024-10-20T01:23:43.562185Z",
     "shell.execute_reply": "2024-10-20T01:23:43.561223Z",
     "shell.execute_reply.started": "2024-10-20T01:23:43.554859Z"
    }
   },
   "outputs": [
    {
     "data": {
      "text/plain": [
       "array([ 1,  2,  3,  4,  5,  6,  8,  7, 18, 10,  9, 44, 77, 33, 16, 23, 26,\n",
       "       11, 31, 14, 55, 63])"
      ]
     },
     "execution_count": 482,
     "metadata": {},
     "output_type": "execute_result"
    }
   ],
   "source": [
    "df[\"No_grid\"].unique()"
   ]
  },
  {
   "cell_type": "code",
   "execution_count": 483,
   "metadata": {
    "execution": {
     "iopub.execute_input": "2024-10-20T01:23:43.563823Z",
     "iopub.status.busy": "2024-10-20T01:23:43.563478Z",
     "iopub.status.idle": "2024-10-20T01:23:43.571710Z",
     "shell.execute_reply": "2024-10-20T01:23:43.570680Z",
     "shell.execute_reply.started": "2024-10-20T01:23:43.563789Z"
    }
   },
   "outputs": [
    {
     "data": {
      "text/plain": [
       "array([ 1,  3,  2,  7,  4,  8, 12,  9, 10, 11, 13,  5,  6, 20, 22, 21, 14,\n",
       "       16])"
      ]
     },
     "execution_count": 483,
     "metadata": {},
     "output_type": "execute_result"
    }
   ],
   "source": [
    "df[\"Pos_grid\"].unique()"
   ]
  },
  {
   "cell_type": "markdown",
   "metadata": {},
   "source": [
    "`Time` column has some null values for drivers \"NOR\" and \"RUS\".\n",
    "But since the column is irrelevant to us, we drop it"
   ]
  },
  {
   "cell_type": "code",
   "execution_count": 485,
   "metadata": {
    "execution": {
     "iopub.execute_input": "2024-10-20T01:23:43.596515Z",
     "iopub.status.busy": "2024-10-20T01:23:43.596163Z",
     "iopub.status.idle": "2024-10-20T01:23:43.604188Z",
     "shell.execute_reply": "2024-10-20T01:23:43.603433Z",
     "shell.execute_reply.started": "2024-10-20T01:23:43.596479Z"
    }
   },
   "outputs": [],
   "source": [
    "# dropping time because it is starting time (which is irrelevant)\n",
    "df.drop(['Time'], axis=1, inplace=True)"
   ]
  },
  {
   "cell_type": "code",
   "execution_count": 486,
   "metadata": {
    "execution": {
     "iopub.execute_input": "2024-10-20T01:23:43.605566Z",
     "iopub.status.busy": "2024-10-20T01:23:43.605254Z",
     "iopub.status.idle": "2024-10-20T01:23:43.615327Z",
     "shell.execute_reply": "2024-10-20T01:23:43.614445Z",
     "shell.execute_reply.started": "2024-10-20T01:23:43.605533Z"
    }
   },
   "outputs": [
    {
     "data": {
      "text/plain": [
       "array(['Ferrari', 'Force India Mercedes', 'Lotus Renault',\n",
       "       'Mclaren Mercedes', 'Mercedes', 'Red Bull Racing Renault',\n",
       "       'Renault', 'Sauber Ferrari', 'Str Ferrari', 'Virgin Cosworth',\n",
       "       'Williams Cosworth', 'Hrt Cosworth', 'Caterham Renault',\n",
       "       'Marussia Cosworth', 'Williams Renault', 'Marussia Ferrari',\n",
       "       'Str Renault', 'Williams Mercedes', 'Lotus Mercedes',\n",
       "       'Mclaren Honda', 'Haas Ferrari', 'Mrt Mercedes',\n",
       "       'Red Bull Racing Tag Heuer', 'Toro Rosso Ferrari', 'Toro Rosso',\n",
       "       'Force India Sahara', 'Mclaren Renault',\n",
       "       'Scuderia Toro Rosso Honda', 'Alfa Romeo Racing Ferrari',\n",
       "       'Racing Point Bwt Mercedes', 'Red Bull Racing Honda',\n",
       "       'Alphatauri Honda', 'Alpine Renault', 'Aston Martin Mercedes',\n",
       "       'Alfa Romeo Ferrari', 'Alphatauri Rbpt',\n",
       "       'Aston Martin Aramco Mercedes', 'Red Bull Racing Rbpt'],\n",
       "      dtype=object)"
      ]
     },
     "execution_count": 486,
     "metadata": {},
     "output_type": "execute_result"
    }
   ],
   "source": [
    "df[\"Team\"].unique()"
   ]
  },
  {
   "cell_type": "markdown",
   "metadata": {},
   "source": [
    "A lot of teams are repeated here.\n",
    "Creating a mapping to map duplicate teams to one team to increase our accuracy"
   ]
  },
  {
   "cell_type": "code",
   "execution_count": 487,
   "metadata": {
    "execution": {
     "iopub.execute_input": "2024-10-20T01:23:43.616716Z",
     "iopub.status.busy": "2024-10-20T01:23:43.616351Z",
     "iopub.status.idle": "2024-10-20T01:23:43.637996Z",
     "shell.execute_reply": "2024-10-20T01:23:43.636953Z",
     "shell.execute_reply.started": "2024-10-20T01:23:43.616680Z"
    }
   },
   "outputs": [],
   "source": [
    "# Create a mapping dictionary\n",
    "mapping_dict = {\n",
    "    # Mapping each group to its first mentioned common name\n",
    "    'Force India Sahara': 'Force India Mercedes',\n",
    "    'Racing Point Bwt Mercedes': 'Force India Mercedes',\n",
    "\n",
    "    'Red Bull Racing Renault': 'Red Bull Racing',\n",
    "    'Red Bull Racing Tag Heuer': 'Red Bull Racing',\n",
    "    'Red Bull Racing Honda': 'Red Bull Racing',\n",
    "    'Red Bull Racing Rbpt': 'Red Bull Racing',\n",
    "\n",
    "    'Str Ferrari': 'Scuderia Toro Rosso',\n",
    "    'Toro Rosso Ferrari': 'Scuderia Toro Rosso',\n",
    "    'Toro Rosso': 'Scuderia Toro Rosso',\n",
    "    'Scuderia Toro Rosso Honda': 'Scuderia Toro Rosso',\n",
    "    'Alphatauri Honda': 'Scuderia Toro Rosso',\n",
    "    'Alphatauri Rbpt': 'Scuderia Toro Rosso',\n",
    "\n",
    "    'Virgin Cosworth': 'Marussia',\n",
    "    'Marussia Cosworth': 'Marussia',\n",
    "    'Marussia Ferrari': 'Marussia',\n",
    "    'Mrt Mercedes': 'Marussia',\n",
    "\n",
    "    'Lotus Renault': 'Lotus',\n",
    "    'Lotus Mercedes': 'Lotus',\n",
    "\n",
    "    'Alfa Romeo Racing Ferrari': 'Alfa Romeo',\n",
    "    'Alfa Romeo Ferrari': 'Alfa Romeo',\n",
    "\n",
    "    'Aston Martin Mercedes': 'Aston Martin',\n",
    "    'Aston Martin Aramco Mercedes': 'Aston Martin',\n",
    "\n",
    "    'Alpine Renault': 'Renault',\n",
    "    'Renault': 'Renault'\n",
    "}\n",
    "\n",
    "# Replace values in the column based on the mapping dictionary\n",
    "df['Team'] = df['Team'].replace(mapping_dict)"
   ]
  },
  {
   "cell_type": "markdown",
   "metadata": {},
   "source": [
    "Result"
   ]
  },
  {
   "cell_type": "code",
   "execution_count": 488,
   "metadata": {
    "execution": {
     "iopub.execute_input": "2024-10-20T01:23:43.639334Z",
     "iopub.status.busy": "2024-10-20T01:23:43.639052Z",
     "iopub.status.idle": "2024-10-20T01:23:43.646525Z",
     "shell.execute_reply": "2024-10-20T01:23:43.645483Z",
     "shell.execute_reply.started": "2024-10-20T01:23:43.639303Z"
    }
   },
   "outputs": [
    {
     "data": {
      "text/plain": [
       "array(['Ferrari', 'Force India Mercedes', 'Lotus', 'Mclaren Mercedes',\n",
       "       'Mercedes', 'Red Bull Racing', 'Renault', 'Sauber Ferrari',\n",
       "       'Scuderia Toro Rosso', 'Marussia', 'Williams Cosworth',\n",
       "       'Hrt Cosworth', 'Caterham Renault', 'Williams Renault',\n",
       "       'Str Renault', 'Williams Mercedes', 'Mclaren Honda',\n",
       "       'Haas Ferrari', 'Mclaren Renault', 'Alfa Romeo', 'Aston Martin'],\n",
       "      dtype=object)"
      ]
     },
     "execution_count": 488,
     "metadata": {},
     "output_type": "execute_result"
    }
   ],
   "source": [
    "df[\"Team\"].unique()"
   ]
  },
  {
   "cell_type": "code",
   "execution_count": 489,
   "metadata": {
    "execution": {
     "iopub.execute_input": "2024-10-20T01:23:43.648242Z",
     "iopub.status.busy": "2024-10-20T01:23:43.647905Z",
     "iopub.status.idle": "2024-10-20T01:23:43.660174Z",
     "shell.execute_reply": "2024-10-20T01:23:43.659229Z",
     "shell.execute_reply.started": "2024-10-20T01:23:43.648197Z"
    }
   },
   "outputs": [
    {
     "name": "stdout",
     "output_type": "stream",
     "text": [
      "['Pit-Stop-Summary']\n"
     ]
    }
   ],
   "source": [
    "print(df[\"Detail_pitstop\"].unique())\n",
    "# Dropping Detail_pitstop since it contains only one value\n",
    "df.drop(['Detail_pitstop'], axis=1, inplace=True)"
   ]
  },
  {
   "cell_type": "markdown",
   "metadata": {},
   "source": [
    "Creating a function to change time to float"
   ]
  },
  {
   "cell_type": "code",
   "execution_count": null,
   "metadata": {
    "execution": {
     "iopub.status.busy": "2024-10-20T01:23:43.845433Z",
     "iopub.status.idle": "2024-10-20T01:23:43.845992Z",
     "shell.execute_reply": "2024-10-20T01:23:43.845742Z",
     "shell.execute_reply.started": "2024-10-20T01:23:43.845713Z"
    }
   },
   "outputs": [],
   "source": [
    "# Function to convert time strings to float\n",
    "def convert_time_to_float(time_str):\n",
    "    if ':' in time_str:\n",
    "        # Split into minutes and seconds\n",
    "        minutes, seconds = map(float, time_str.split(':'))\n",
    "        return minutes * 60 + seconds  # Convert to total seconds\n",
    "    else:\n",
    "        return float(time_str)  # Convert directly to float\n",
    "\n",
    "df[\"Time_pitstop\"] = df[\"Time_pitstop\"].apply(convert_time_to_float)"
   ]
  },
  {
   "cell_type": "code",
   "execution_count": null,
   "metadata": {
    "execution": {
     "iopub.status.busy": "2024-10-20T01:23:43.847288Z",
     "iopub.status.idle": "2024-10-20T01:23:43.847791Z",
     "shell.execute_reply": "2024-10-20T01:23:43.847590Z",
     "shell.execute_reply.started": "2024-10-20T01:23:43.847561Z"
    }
   },
   "outputs": [],
   "source": [
    "df[\"Total\"] = df[\"Total\"].apply(convert_time_to_float)"
   ]
  },
  {
   "cell_type": "code",
   "execution_count": null,
   "metadata": {
    "execution": {
     "iopub.status.busy": "2024-10-20T01:23:43.849787Z",
     "iopub.status.idle": "2024-10-20T01:23:43.850300Z",
     "shell.execute_reply": "2024-10-20T01:23:43.850057Z",
     "shell.execute_reply.started": "2024-10-20T01:23:43.850028Z"
    }
   },
   "outputs": [],
   "source": [
    "df.to_csv('cleaned_merged_race_data.csv', index=False)"
   ]
  }
 ],
 "metadata": {
  "kaggle": {
   "accelerator": "none",
   "dataSources": [
    {
     "datasetId": 2396137,
     "sourceId": 4626533,
     "sourceType": "datasetVersion"
    }
   ],
   "dockerImageVersionId": 30786,
   "isGpuEnabled": false,
   "isInternetEnabled": false,
   "language": "python",
   "sourceType": "notebook"
  },
  "kernelspec": {
   "display_name": "Python 3 (ipykernel)",
   "language": "python",
   "name": "python3"
  },
  "language_info": {
   "codemirror_mode": {
    "name": "ipython",
    "version": 3
   },
   "file_extension": ".py",
   "mimetype": "text/x-python",
   "name": "python",
   "nbconvert_exporter": "python",
   "pygments_lexer": "ipython3",
   "version": "3.11.10"
  }
 },
 "nbformat": 4,
 "nbformat_minor": 4
}
